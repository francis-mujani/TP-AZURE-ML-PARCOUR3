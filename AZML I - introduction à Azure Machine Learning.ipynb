{
 "cells": [
  {
   "cell_type": "markdown",
   "metadata": {},
   "source": [
    "# Introduction à Azure Machine learning\n",
    "Laurent Cetinsoy \n",
    "\n",
    "Azure machine learning (azml), c'est bien, on est tous d'accord. \n",
    "\n",
    "Le but de ce notebook est d'acquérir les premières bases. \n",
    "\n",
    "Azml permet de faire plusieurs choses : \n",
    "\n",
    "- sauvegarder et historiser les résultats d'entraînement de modèles ou autre\n",
    "\n",
    "- sauvegarder et se constituer une base de donnée de modèles entraîné\n",
    "\n",
    "- Mettre en production facilement des modèles entraîné et les rendre accessible via des web services\n",
    "\n",
    "- faire du AutoML\n",
    "\n",
    "- Faire des modèles via interface graphique\n",
    "\n",
    "Il est possible d'utiliser azml via le portail et les éditeurs graphiques ou de les utiliser via des librairies (sdk) python ou R (je crois, mais qui veut faire du R anw à part Samira ? )\n",
    "\n",
    "Dans ce notebook on va apprendre à utiliser les bases du SDK \n",
    "\n",
    "Le notebook est utilisable sur votre pc ou sur une VM \n"
   ]
  },
  {
   "cell_type": "markdown",
   "metadata": {},
   "source": [
    "**La liste des principales classe du coeur de la librairie sont disponibles ici :**\n",
    "\n",
    "https://docs.microsoft.com/fr-fr/python/api/azureml-core/azureml.core?view=azure-ml-py"
   ]
  },
  {
   "cell_type": "markdown",
   "metadata": {},
   "source": [
    "voilà un superbe diagramme qui résume un peu le tout graphiquement : \n",
    "\n",
    "https://app.diagrams.net/?lightbox=1&highlight=0000ff&edit=_blank&layers=1&nav=1#R7Vzbcts2EP0aTZ2HeCheROlRlpy2U2fqqZKm7UsGIiEKNgSwICjL%2BfriQvAG2lEcSbQy9YNNLEkI2LO7OLuAPPBmm93PDKTr9zSGeOA68W7gzQeuG4ah%2BC0Fj1owcnwtSBiKtWhYCRboCyyETiHNUQyzxoOcUsxR2hRGlBAY8YYMMEYfmo%2BtKG5%2BagoSaAkWEcC29BOK%2BVpLx4FTyX%2BBKFmbTx46xZ0NMA8XgmwNYvpQE3nXA2%2FGKOX6arObQSx1Z%2FSi33v3xN1yYAwSvs8L7B%2B4Wn74%2BNGbXn14eDdfjvFi%2B3ZYdJPxRzNjGAsFFE3K%2BJomlAB8XUmvGM1JDGW3jmhVz9xQmgrhUAjvIOePBZog51SI1nyDi7twh%2Fhfteu%2FZVeXQdGa74qeVePRNAhnj39VD8rm3%2FV71WuqZd7T85OTelJvRgc0ZxF8TlmF%2FQGWQP7ccxW8wi0g3UAxIPEigxhwtG0OBBQGmpTPVRiKiwLGb4HU6xNS59IN6qjui6kYdR3USxE3nsdVtW4hQ0JrkPUH9rhXrIN%2BsX4R1E33vZyMvP%2Bh3gPqsF%2BowxdhHTrjFtph8D%2Fae6Ct%2B90CnBefdCs6cm5%2Bn01v5LwfBZJk4EoZ%2BJIzuMFvs%2FjeshDBOVJ5mTIawUwM8uphjThcpECp6EFQtibeSxDdJ8pqfs85RgQW8mI4kHG4ex4BW2PmBUOECibohUX7oeJV5TPrGqcaOUdSsmspeQ44yCIkZoQyDp9UZ77B04hTYZxXUiVI0MUbsIT4lmaIIwGMN19SzulGPIDljatSrTOK5XuiN2%2Blfmp9TDFK5LuctlChGotZyXGdA0HiNyHxRzYk3ikRGVuIzDDNYyG6UGYuebXsJINsiyL4ZlCS61pUxFgkBzL6Gbgi1cdXbf8ACvWDpkKHwZ42Pj6WRk0eVVPpwB1h8bFXMdqKy0ReThvKlYHEMU8tmXnISMQ4aq929CZyMc4ohiY4tVB7qp8nnA0RsQyINWshHE4laz3GMM9pOYzXge%2BkA9%2FS0w4PsB3FPsAdt9TJpbChJ1CEmwgStdBacWiD4ljTCJihL2CpupKhJ6UCFDWR4GoQzGVfgjlkmkQcypVcv6lqf2Sp2u%2FQtHs0RfuWohcgF3NMAIuF%2FlxHFiqEqQ9m3mA64Qz9m0vBmeMwNK8UOLihb5t8eFIgRhYQH1NMQQMEGisYxlg1JacESnBNNDznD4w3bPEpkyF8LRYdDxh7%2BX4vsgu1AEAiJ8eoXMtz0kSoXyhWCOM6KxtHMIokexBr2D2s3VmOA7m%2BHwQ8d9yMbu54aIMXnBK8LiZ1gvyyShXHYasw0HuiOBmcQ6Y4sZxuLlwgITIatgCt4Bp%2BnUb14hejNoF2e08SR334xQHN%2BCmN722exau3MpBWSAVhE6lyx8Z0od2meKsFQjmM78DFLpFMhRrf3%2FwAVl%2Fqsj%2Br77ewXC81fmVf6JCe4v6YnmJniNe7FAv2tEQYcc2HfwCv8ZwODnVar%2FHPxWtqvGsyatKuvjfeXO8caJcZZT0J5cKdMpWE6qyTUA6zJaX3snEBtjCqpiVPLGzSnMsa5vl73tiuzZzY80ILjo7C5C3OMwRzpioEgCCdgDIFVvxTXuHXXbYU2psOvqsy2s%2Brw0sx6muZdGMqUmY5P22LmdxDchbz33qblSuHNtWj0U5DJQzyQp0nkjU0VdRpg7KoQOll4J41cOnt0tmlrysHV2WOwsvrji93LdSFqpBr7ceAZEaitytOMAdfzmGuPzkn8qP%2FfC9%2BCZXjiBKteWCmaIZ68GGdaxmuvkc27oh1w%2BMFO7vOprxbLByJDlNzNYVHoGgozfUcM6TcXa7fMGUi0p2v7g2zbpVAO7YvO%2Fcvj1ZE8%2FohgP0fjXP3rZV5Xq%2BszS6WfaLsPlP06rt42AGseRw0jblrb%2FGkpMoMoKatGxlf9AYxzAyLpZnOIcuVOsUQEdOIMMiyH2EjLBw18Akmdrp54mjTS2nyFUQbb98zXF7QZ7Tx7BLl9S5VmTOxN%2BhPHW48N7x8dRHHrkP1dp7V3Hm1x9E9d18v6LVSYoZZ84I%2FVGrUuweMnFdn%2F3ZVqSO3WjG6%2BSwytBVKLqK1RN9kmw8VmXH09vrkTv0RA3YSpi5dnTUbqXpvhaI1UpWPu4ySN6%2B8nhExCFRKfRGxinmoiRCabyHIW6p48%2BJs9DUeQmsd2gyDwOYhw66E1BDMw5ttYJltJqIS%2F4xpkiCSXMiSByJxUc0pbQ98UbWcf%2FOfdPkBqtURkqaFCoopFszI7FOMwEbqmiyzVOlT11LEKKEKaWRLUWkOdHmn7jLZsk3gDMBuZwWh14G2iWNN1nm0IGWXHzqcVEAvPVQAulEQqFwgkwfmyvNyGvSYkuJMVnGet4%2BQwoEaLbijulhXnCKDHMgGUH9UWBGWdJLwKPMqDHWUSwUTkMNAqvypfUhbuzJynYitEEHfpr8zsP6g9Z2B0O%2Bo8HSet50cy%2Fr9fr4x2T%2Fd9Pelm36vJR4zzOejU%2BklRnBNtohRojOz0l%2BW3%2By3t414V3Aw6ZvMrEmw%2FknOhWjwXG3KiBvSgUF9U6HoIIUkBmJZzHS8LDcPGocoHRmkljCjqHOx2ysInJqCT5qr29DppOAdy9vx%2FLuLgp9DqGwdnBv2Twt9%2B8R88f8B%2Bi59%2BG2z6%2F2YoW9T6F%2FJCjJJhmcq1etda%2B3F%2BDVozf4qQEdMvpG73p%2FgcvH894%2Bs91rk1cRiTB8VfdW7560QrIN3TKN79Qys77q%2FleouuJzkklwwt5enpievlozb8PdeLvE7Tn1ILEKghANVD5BrpgZSfxNBYbmxvpeQR1zvj7YX1stBR6nq3DYvPGfSAG8STizsvC7sXrB5IZrVfzXRhxirfw3jXf8H"
   ]
  },
  {
   "cell_type": "markdown",
   "metadata": {},
   "source": [
    "## Workspace \n",
    "\n",
    "Un workspace azml est tout simplement un espace de travail dans lequel seront regroupés les informations et outils. On peut en créer autant qu'on veut. Soit via le portail. Soit via le SDK\n",
    "\n",
    "Connectez vous sur le portail et créer un workspace. Aller dessus et cliquer sur \"Download configuration\" et le mettre dans le même dosser que ce beau notebook"
   ]
  },
  {
   "cell_type": "markdown",
   "metadata": {},
   "source": [
    "Une fois que c'est fait. Créer une variable workspace à l'aide de la méthode from_config de la class Workspace et le stocker dans la variable **ws**"
   ]
  },
  {
   "cell_type": "code",
   "execution_count": 5,
   "metadata": {},
   "outputs": [],
   "source": [
    "from azureml.core import Workspace\n",
    "\n",
    "\n",
    "ws = Workspace.from_config()"
   ]
  },
  {
   "cell_type": "markdown",
   "metadata": {},
   "source": [
    "Afficher les détail du workspace avec la méthode get_details()"
   ]
  },
  {
   "cell_type": "code",
   "execution_count": 6,
   "metadata": {},
   "outputs": [
    {
     "data": {
      "text/plain": [
       "{'id': '/subscriptions/f08d91e4-8ee9-45bb-b518-f36e0aecb653/resourceGroups/lce/providers/Microsoft.MachineLearningServices/workspaces/ws_lce_via_python',\n",
       " 'name': 'ws_lce_via_python',\n",
       " 'location': 'eastus',\n",
       " 'type': 'Microsoft.MachineLearningServices/workspaces',\n",
       " 'sku': 'Basic',\n",
       " 'workspaceid': '1ce1d76d-1b49-4c40-9547-40844cc35d1e',\n",
       " 'description': '',\n",
       " 'friendlyName': 'ws_lce_via_python',\n",
       " 'creationTime': '2020-05-12T13:36:08.2064494+00:00',\n",
       " 'containerRegistry': '/subscriptions/f08d91e4-8ee9-45bb-b518-f36e0aecb653/resourceGroups/lce/providers/Microsoft.ContainerRegistry/registries/wslceviapyth58adc68e',\n",
       " 'keyVault': '/subscriptions/f08d91e4-8ee9-45bb-b518-f36e0aecb653/resourcegroups/lce/providers/microsoft.keyvault/vaults/wslceviakeyvault0b96a271',\n",
       " 'applicationInsights': '/subscriptions/f08d91e4-8ee9-45bb-b518-f36e0aecb653/resourcegroups/lce/providers/microsoft.insights/components/wslceviainsights9562d6ba',\n",
       " 'identityPrincipalId': '38721616-bd6e-4772-837f-9b8ca2d4cc77',\n",
       " 'identityTenantId': 'bb173d36-4dc2-46a6-bba3-eeee2eeb65bc',\n",
       " 'identityType': 'SystemAssigned',\n",
       " 'storageAccount': '/subscriptions/f08d91e4-8ee9-45bb-b518-f36e0aecb653/resourcegroups/lce/providers/microsoft.storage/storageaccounts/wslceviastorage5c9413e59',\n",
       " 'hbiWorkspace': False,\n",
       " 'discoveryUrl': 'https://eastus.experiments.azureml.net/discovery'}"
      ]
     },
     "execution_count": 6,
     "metadata": {},
     "output_type": "execute_result"
    }
   ],
   "source": [
    "ws.get_details()"
   ]
  },
  {
   "cell_type": "markdown",
   "metadata": {},
   "source": [
    "Création via python : Créer un nouveau workspace via le python sdk (et donc sans faire \"new workspace\" dans le portial) a l'aide de la méthode create de la classe Workspace. Vérifiez qu'il existe bien sur le portail.\n"
   ]
  },
  {
   "cell_type": "code",
   "execution_count": null,
   "metadata": {},
   "outputs": [],
   "source": []
  },
  {
   "cell_type": "markdown",
   "metadata": {},
   "source": [
    "A l'aide de la méthode de classe list de Workspace, afficher la liste de tous les workspace de votre souscription"
   ]
  },
  {
   "cell_type": "code",
   "execution_count": 7,
   "metadata": {},
   "outputs": [
    {
     "data": {
      "text/plain": [
       "{'newDP100WS': [Workspace.create(name='newDP100WS', subscription_id='f08d91e4-8ee9-45bb-b518-f36e0aecb653', resource_group='Eve_Sananes')],\n",
       " 'myworkspace': [Workspace.create(name='myworkspace', subscription_id='f08d91e4-8ee9-45bb-b518-f36e0aecb653', resource_group='Hanane')],\n",
       " 'testdelespace': [Workspace.create(name='testdelespace', subscription_id='f08d91e4-8ee9-45bb-b518-f36e0aecb653', resource_group='IsBouh')],\n",
       " 'WorkspaceJulie': [Workspace.create(name='WorkspaceJulie', subscription_id='f08d91e4-8ee9-45bb-b518-f36e0aecb653', resource_group='Julie')],\n",
       " 'laetiworkspace': [Workspace.create(name='laetiworkspace', subscription_id='f08d91e4-8ee9-45bb-b518-f36e0aecb653', resource_group='Laetitia_Remy')],\n",
       " 'lcelce': [Workspace.create(name='lcelce', subscription_id='f08d91e4-8ee9-45bb-b518-f36e0aecb653', resource_group='lce')],\n",
       " 'Mag_workspace': [Workspace.create(name='Mag_workspace', subscription_id='f08d91e4-8ee9-45bb-b518-f36e0aecb653', resource_group='lce')],\n",
       " 'marie-ws': [Workspace.create(name='marie-ws', subscription_id='f08d91e4-8ee9-45bb-b518-f36e0aecb653', resource_group='lce')],\n",
       " 'new-workspace_magali': [Workspace.create(name='new-workspace_magali', subscription_id='f08d91e4-8ee9-45bb-b518-f36e0aecb653', resource_group='lce')],\n",
       " 'ws2lcepython': [Workspace.create(name='ws2lcepython', subscription_id='f08d91e4-8ee9-45bb-b518-f36e0aecb653', resource_group='lce')],\n",
       " 'ws_lce_via_python': [Workspace.create(name='ws_lce_via_python', subscription_id='f08d91e4-8ee9-45bb-b518-f36e0aecb653', resource_group='lce')],\n",
       " 'ws-azml-tashikyi': [Workspace.create(name='ws-azml-tashikyi', subscription_id='f08d91e4-8ee9-45bb-b518-f36e0aecb653', resource_group='rg-tashikyi')],\n",
       " 'ws_sophie': [Workspace.create(name='ws_sophie', subscription_id='f08d91e4-8ee9-45bb-b518-f36e0aecb653', resource_group='Sophie')]}"
      ]
     },
     "execution_count": 7,
     "metadata": {},
     "output_type": "execute_result"
    }
   ],
   "source": [
    "Workspace.list(subscription_id=\"f08d91e4-8ee9-45bb-b518-f36e0aecb653\")"
   ]
  },
  {
   "cell_type": "markdown",
   "metadata": {},
   "source": [
    "A l'aide de la méthode write_config, générer le fichier json de config pour ce workspace numéro 2 "
   ]
  },
  {
   "cell_type": "code",
   "execution_count": 10,
   "metadata": {},
   "outputs": [
    {
     "name": "stdout",
     "output_type": "stream",
     "text": [
      "total 28\r\n",
      "drwxrwxr-x 2 zoubab zoubab  4096 mai   26 15:33 .\r\n",
      "drwxrwxr-x 8 zoubab zoubab 12288 mai   26 15:33 ..\r\n",
      "-rw-rw-r-- 1 zoubab zoubab   168 mai   26 15:33 config.json\r\n"
     ]
    }
   ],
   "source": [
    "ws.write_config()\n",
    "!ls -la .azureml"
   ]
  },
  {
   "cell_type": "markdown",
   "metadata": {},
   "source": [
    "Supprimer le premier workspace créé avec le sdk. Vérifier qu'il est bien supprimé sur le portail et avec la méthode list"
   ]
  },
  {
   "cell_type": "code",
   "execution_count": 21,
   "metadata": {},
   "outputs": [],
   "source": [
    "ws2 = Workspace(\"f08d91e4-8ee9-45bb-b518-f36e0aecb653\", workspace_name=\"lcelce\", resource_group=\"lce\")"
   ]
  },
  {
   "cell_type": "code",
   "execution_count": 22,
   "metadata": {},
   "outputs": [],
   "source": [
    "ws2.delete()"
   ]
  },
  {
   "cell_type": "code",
   "execution_count": 23,
   "metadata": {},
   "outputs": [
    {
     "data": {
      "text/plain": [
       "{'newDP100WS': [Workspace.create(name='newDP100WS', subscription_id='f08d91e4-8ee9-45bb-b518-f36e0aecb653', resource_group='Eve_Sananes')],\n",
       " 'myworkspace': [Workspace.create(name='myworkspace', subscription_id='f08d91e4-8ee9-45bb-b518-f36e0aecb653', resource_group='Hanane')],\n",
       " 'testdelespace': [Workspace.create(name='testdelespace', subscription_id='f08d91e4-8ee9-45bb-b518-f36e0aecb653', resource_group='IsBouh')],\n",
       " 'WorkspaceJulie': [Workspace.create(name='WorkspaceJulie', subscription_id='f08d91e4-8ee9-45bb-b518-f36e0aecb653', resource_group='Julie')],\n",
       " 'laetiworkspace': [Workspace.create(name='laetiworkspace', subscription_id='f08d91e4-8ee9-45bb-b518-f36e0aecb653', resource_group='Laetitia_Remy')],\n",
       " 'lcelce': [Workspace.create(name='lcelce', subscription_id='f08d91e4-8ee9-45bb-b518-f36e0aecb653', resource_group='lce')],\n",
       " 'Mag_workspace': [Workspace.create(name='Mag_workspace', subscription_id='f08d91e4-8ee9-45bb-b518-f36e0aecb653', resource_group='lce')],\n",
       " 'marie-ws': [Workspace.create(name='marie-ws', subscription_id='f08d91e4-8ee9-45bb-b518-f36e0aecb653', resource_group='lce')],\n",
       " 'new-workspace_magali': [Workspace.create(name='new-workspace_magali', subscription_id='f08d91e4-8ee9-45bb-b518-f36e0aecb653', resource_group='lce')],\n",
       " 'ws_lce_via_python': [Workspace.create(name='ws_lce_via_python', subscription_id='f08d91e4-8ee9-45bb-b518-f36e0aecb653', resource_group='lce')],\n",
       " 'ws-azml-tashikyi': [Workspace.create(name='ws-azml-tashikyi', subscription_id='f08d91e4-8ee9-45bb-b518-f36e0aecb653', resource_group='rg-tashikyi')],\n",
       " 'ws_sophie': [Workspace.create(name='ws_sophie', subscription_id='f08d91e4-8ee9-45bb-b518-f36e0aecb653', resource_group='Sophie')]}"
      ]
     },
     "execution_count": 23,
     "metadata": {},
     "output_type": "execute_result"
    }
   ],
   "source": [
    "Workspace.list(subscription_id=\"f08d91e4-8ee9-45bb-b518-f36e0aecb653\")"
   ]
  },
  {
   "cell_type": "markdown",
   "metadata": {},
   "source": [
    "## Les compute target\n",
    "\n",
    "Qu'est ce qu'un compute target ? A quoi ça sert dans azure ml service ? "
   ]
  },
  {
   "cell_type": "markdown",
   "metadata": {},
   "source": [
    "Un compute c'est un objet qui représente une ressource de calcul comme une VM ou un cluster (sur azure le plus souvent). Il existe des compute target dédiées à l'entraînement et d'autres dédiés à la prédiction"
   ]
  },
  {
   "cell_type": "markdown",
   "metadata": {},
   "source": [
    "Avec la bonne méthode, afficher les compute target du workspace. Il ne devrait pas y en avoir à ce stade, c'est normal. Pour le moment on ne va pas les utiliser."
   ]
  },
  {
   "cell_type": "code",
   "execution_count": 24,
   "metadata": {},
   "outputs": [
    {
     "data": {
      "text/plain": [
       "{}"
      ]
     },
     "execution_count": 24,
     "metadata": {},
     "output_type": "execute_result"
    }
   ],
   "source": [
    "ws.compute_targets"
   ]
  },
  {
   "cell_type": "markdown",
   "metadata": {},
   "source": [
    "## Les datastore\n",
    "\n",
    "comme vous le savez, azure permet de stocker des données ... comme avec blob storage par exemple ou des base de données managées. Il est possible de relier à azure ml service, une source de donnée présente sur azure à l'aide d'un Datastore. \n",
    "\n",
    "Afficher les datastore du workspace. Y'en-a-t-il, à quoi correspondent-ils ?"
   ]
  },
  {
   "cell_type": "code",
   "execution_count": 26,
   "metadata": {},
   "outputs": [
    {
     "data": {
      "text/plain": [
       "{'workspacefilestore': {\n",
       "   \"name\": \"workspacefilestore\",\n",
       "   \"container_name\": \"azureml-filestore-1ce1d76d-1b49-4c40-9547-40844cc35d1e\",\n",
       "   \"account_name\": \"wslceviastorage5c9413e59\",\n",
       "   \"protocol\": \"https\",\n",
       "   \"endpoint\": \"core.windows.net\"\n",
       " },\n",
       " 'workspaceblobstore': {\n",
       "   \"name\": \"workspaceblobstore\",\n",
       "   \"container_name\": \"azureml-blobstore-1ce1d76d-1b49-4c40-9547-40844cc35d1e\",\n",
       "   \"account_name\": \"wslceviastorage5c9413e59\",\n",
       "   \"protocol\": \"https\",\n",
       "   \"endpoint\": \"core.windows.net\"\n",
       " }}"
      ]
     },
     "execution_count": 26,
     "metadata": {},
     "output_type": "execute_result"
    }
   ],
   "source": [
    "ws.datastores"
   ]
  },
  {
   "cell_type": "markdown",
   "metadata": {},
   "source": [
    "Récupérer le datastore par défaut avec la méthode get_default_datastore"
   ]
  },
  {
   "cell_type": "code",
   "execution_count": 27,
   "metadata": {},
   "outputs": [
    {
     "data": {
      "text/plain": [
       "azureml.data.azure_storage_datastore.AzureBlobDatastore"
      ]
     },
     "execution_count": 27,
     "metadata": {},
     "output_type": "execute_result"
    }
   ],
   "source": [
    "datastore = ws.get_default_datastore()\n",
    "type(datastore)"
   ]
  },
  {
   "cell_type": "markdown",
   "metadata": {},
   "source": [
    "## Les datasets\n",
    "\n",
    "Il existe aussi une classe pour gérer les dataset. \n",
    "\n",
    "A l'aide du datastore, uploader le fichier dataset1.csv"
   ]
  },
  {
   "cell_type": "code",
   "execution_count": 28,
   "metadata": {},
   "outputs": [
    {
     "name": "stdout",
     "output_type": "stream",
     "text": [
      "Uploading an estimated of 1 files\n",
      "Target already exists. Skipping upload for dataset1.csv\n",
      "Uploaded 0 files\n"
     ]
    },
    {
     "data": {
      "text/plain": [
       "$AZUREML_DATAREFERENCE_workspaceblobstore"
      ]
     },
     "execution_count": 28,
     "metadata": {},
     "output_type": "execute_result"
    }
   ],
   "source": [
    "datastore.upload_files(['./dataset1.csv'])"
   ]
  },
  {
   "cell_type": "markdown",
   "metadata": {},
   "source": [
    "A l'aide du module Dataset.Tabular et  de la méthode from_delimited_files, récupérer une référence vers le fichier que vous avez téléchargé"
   ]
  },
  {
   "cell_type": "code",
   "execution_count": 29,
   "metadata": {},
   "outputs": [],
   "source": [
    "from azureml.core import Dataset"
   ]
  },
  {
   "cell_type": "code",
   "execution_count": 30,
   "metadata": {},
   "outputs": [
    {
     "data": {
      "text/plain": [
       "azureml.data.tabular_dataset.TabularDataset"
      ]
     },
     "execution_count": 30,
     "metadata": {},
     "output_type": "execute_result"
    }
   ],
   "source": [
    "sources = [\n",
    "    (datastore, \"dataset1.csv\")\n",
    "]\n",
    "\n",
    "uploaded_dataset = Dataset.Tabular.from_delimited_files(sources, ) #ici on fait référence aux fichiers qui sont dans le datastore\n",
    "type(uploaded_dataset)"
   ]
  },
  {
   "cell_type": "markdown",
   "metadata": {},
   "source": [
    "Lister la liste de tout vos dataset dans le workspace"
   ]
  },
  {
   "cell_type": "code",
   "execution_count": 32,
   "metadata": {},
   "outputs": [
    {
     "data": {
      "text/plain": [
       "{'pouloulou2': DatasetRegistration(id='89593f45-51e3-4be9-95a1-b097dc8f2088', name='pouloulou2', version=1, description='', tags={}), 'pouloulou': DatasetRegistration(id='264b36b4-90d0-4235-9d16-4ac7f9cf67a9', name='pouloulou', version=1, description='', tags={}), 'salary_col': DatasetRegistration(id='a6c648cb-833f-4d50-a753-902fad538515', name='salary_col', version=1, description='', tags={}), 'dataset_superbe': DatasetRegistration(id='cb580c71-8801-4902-880c-516caa9c3f40', name='dataset_superbe', version=1, description='', tags={}), 'mon premier dataset': DatasetRegistration(id='97f6057d-2d30-485a-9bb6-0c4f5caeb4aa', name='mon premier dataset', version=1, description='', tags={})}"
      ]
     },
     "execution_count": 32,
     "metadata": {},
     "output_type": "execute_result"
    }
   ],
   "source": [
    "Dataset.get_all(ws)"
   ]
  },
  {
   "cell_type": "markdown",
   "metadata": {},
   "source": [
    "Register son dataset "
   ]
  },
  {
   "cell_type": "code",
   "execution_count": 33,
   "metadata": {},
   "outputs": [
    {
     "data": {
      "text/plain": [
       "{\n",
       "  \"source\": [\n",
       "    \"('workspaceblobstore', 'dataset1.csv')\"\n",
       "  ],\n",
       "  \"definition\": [\n",
       "    \"GetDatastoreFiles\",\n",
       "    \"ParseDelimited\",\n",
       "    \"DropColumns\",\n",
       "    \"SetColumnTypes\"\n",
       "  ],\n",
       "  \"registration\": {\n",
       "    \"id\": \"bff95f3a-cece-40dd-a45b-6e0105824437\",\n",
       "    \"name\": \"superbedatasetuploaded\",\n",
       "    \"version\": 1,\n",
       "    \"workspace\": \"Workspace.create(name='ws_lce_via_python', subscription_id='f08d91e4-8ee9-45bb-b518-f36e0aecb653', resource_group='lce')\"\n",
       "  }\n",
       "}"
      ]
     },
     "execution_count": 33,
     "metadata": {},
     "output_type": "execute_result"
    }
   ],
   "source": [
    "uploaded_dataset.register(ws, \"superbedatasetuploaded\")"
   ]
  },
  {
   "cell_type": "markdown",
   "metadata": {},
   "source": [
    "afficher à nouveau la liste des dataset et vérifier qu'il est bien présent aussi sur le portail azure dans le workspace."
   ]
  },
  {
   "cell_type": "code",
   "execution_count": 34,
   "metadata": {},
   "outputs": [
    {
     "data": {
      "text/plain": [
       "{'superbedatasetuploaded': DatasetRegistration(id='bff95f3a-cece-40dd-a45b-6e0105824437', name='superbedatasetuploaded', version=1, description='', tags={}), 'pouloulou2': DatasetRegistration(id='89593f45-51e3-4be9-95a1-b097dc8f2088', name='pouloulou2', version=1, description='', tags={}), 'pouloulou': DatasetRegistration(id='264b36b4-90d0-4235-9d16-4ac7f9cf67a9', name='pouloulou', version=1, description='', tags={}), 'salary_col': DatasetRegistration(id='a6c648cb-833f-4d50-a753-902fad538515', name='salary_col', version=1, description='', tags={}), 'dataset_superbe': DatasetRegistration(id='cb580c71-8801-4902-880c-516caa9c3f40', name='dataset_superbe', version=1, description='', tags={}), 'mon premier dataset': DatasetRegistration(id='97f6057d-2d30-485a-9bb6-0c4f5caeb4aa', name='mon premier dataset', version=1, description='', tags={})}"
      ]
     },
     "execution_count": 34,
     "metadata": {},
     "output_type": "execute_result"
    }
   ],
   "source": [
    "Dataset.get_all(ws)"
   ]
  },
  {
   "cell_type": "markdown",
   "metadata": {},
   "source": [
    "Quelle différence entre un dataset et un datastore ? "
   ]
  },
  {
   "cell_type": "markdown",
   "metadata": {},
   "source": [
    "Le datastore c'est le mecanisme qui permet de stocker réellement des fichiers sur azure via Azure ml service. \n",
    "\n",
    "Un dataset c'est un objet qui représente un fichier dans notre workspace"
   ]
  },
  {
   "cell_type": "markdown",
   "metadata": {},
   "source": [
    "## Experiment et sauvegarde d'information\n",
    "\n",
    "A l'aide de la classe **Experiment**, créer une experience reliée au workspace **ws** et lui donner le nom \"firstexperiment\". Vérifier que l'experiment existe sur le portail."
   ]
  },
  {
   "cell_type": "code",
   "execution_count": 36,
   "metadata": {},
   "outputs": [
    {
     "data": {
      "text/plain": [
       "azureml.core.experiment.Experiment"
      ]
     },
     "execution_count": 36,
     "metadata": {},
     "output_type": "execute_result"
    }
   ],
   "source": [
    "from azureml.core import Experiment\n",
    "exp = Experiment(ws, \"myfirstexperiment\")\n",
    "type(exp)\n",
    "run1 = exp.start_logging(snapshot_directory=False)\n"
   ]
  },
  {
   "cell_type": "code",
   "execution_count": 39,
   "metadata": {},
   "outputs": [],
   "source": [
    "\n",
    "\n",
    "run1.log(\"mse\", 0.7)\n",
    "run1.log(\"message a maman\", \"coucou je passe à la télé\")\n",
    "#run1.log(\"accuracy\", model.score(X, y ))\n",
    "#en gros log permet de \"logguer\" n'importe quelle valeur dans une experience\n",
    "\n",
    "\n",
    "run1.complete()"
   ]
  },
  {
   "cell_type": "markdown",
   "metadata": {},
   "source": [
    "A l'aide de la bonne méthode de classe, lister les experiments qui existent via le sdk, elle devrait apparaître."
   ]
  },
  {
   "cell_type": "code",
   "execution_count": null,
   "metadata": {},
   "outputs": [],
   "source": []
  },
  {
   "cell_type": "markdown",
   "metadata": {},
   "source": [
    "A l'aide de la méthode start_logging() récupérer une instance de l'objet Run et la stocker dans la variable **run**\n",
    "\n"
   ]
  },
  {
   "cell_type": "code",
   "execution_count": null,
   "metadata": {},
   "outputs": [],
   "source": []
  },
  {
   "cell_type": "markdown",
   "metadata": {},
   "source": [
    "Aller sur le portail azure et vérifier que l'experience est lancée"
   ]
  },
  {
   "cell_type": "markdown",
   "metadata": {},
   "source": [
    "Sauvergarder une donnée quelconque dans le run avec ru.log"
   ]
  },
  {
   "cell_type": "code",
   "execution_count": null,
   "metadata": {},
   "outputs": [],
   "source": []
  },
  {
   "cell_type": "markdown",
   "metadata": {},
   "source": [
    "Dite à azure que le run est terminé en utilisant la méthode run.complete()"
   ]
  },
  {
   "cell_type": "code",
   "execution_count": null,
   "metadata": {},
   "outputs": [],
   "source": []
  },
  {
   "cell_type": "markdown",
   "metadata": {},
   "source": [
    "Quelles sont les différentes méthodes de la classe Run ? "
   ]
  },
  {
   "cell_type": "code",
   "execution_count": null,
   "metadata": {},
   "outputs": [],
   "source": []
  },
  {
   "cell_type": "markdown",
   "metadata": {},
   "source": [
    "Compléter le code suivant pourqu'il sauvegarde à chaque entraînement dans azml, la MSE et le coefficient r^2 de ce modèle (complétement inutile). Vous pouvez utiliser pour cela la méthode .log"
   ]
  },
  {
   "cell_type": "code",
   "execution_count": 44,
   "metadata": {},
   "outputs": [],
   "source": [
    "from sklearn.linear_model import LinearRegression\n",
    "import numpy as np\n",
    "def train_model(run):\n",
    "    \n",
    "    X = np.random.randn(10, 3)\n",
    "    y = np.sum(X, axis=1)\n",
    "\n",
    "\n",
    "    model = LinearRegression()\n",
    "    print('training')\n",
    "    model.fit(X, y)\n",
    "    print('done')\n",
    "    run.log(\"r2 coefficient\", model.score(X, y))\n",
    "                            \n",
    "    return model"
   ]
  },
  {
   "cell_type": "code",
   "execution_count": 46,
   "metadata": {},
   "outputs": [
    {
     "ename": "KeyboardInterrupt",
     "evalue": "",
     "output_type": "error",
     "traceback": [
      "\u001b[0;31m---------------------------------------------------------------------------\u001b[0m",
      "\u001b[0;31mKeyboardInterrupt\u001b[0m                         Traceback (most recent call last)",
      "\u001b[0;32m<ipython-input-46-eeb57a819510>\u001b[0m in \u001b[0;36m<module>\u001b[0;34m\u001b[0m\n\u001b[0;32m----> 1\u001b[0;31m \u001b[0mrun\u001b[0m \u001b[0;34m=\u001b[0m \u001b[0mexp\u001b[0m\u001b[0;34m.\u001b[0m\u001b[0mstart_logging\u001b[0m\u001b[0;34m(\u001b[0m\u001b[0;34m)\u001b[0m\u001b[0;34m\u001b[0m\u001b[0;34m\u001b[0m\u001b[0m\n\u001b[0m\u001b[1;32m      2\u001b[0m \u001b[0mmodel\u001b[0m \u001b[0;34m=\u001b[0m \u001b[0mtrain_model\u001b[0m\u001b[0;34m(\u001b[0m\u001b[0mrun\u001b[0m\u001b[0;34m)\u001b[0m\u001b[0;34m\u001b[0m\u001b[0;34m\u001b[0m\u001b[0m\n\u001b[1;32m      3\u001b[0m \u001b[0mprint\u001b[0m\u001b[0;34m(\u001b[0m\u001b[0mtype\u001b[0m\u001b[0;34m(\u001b[0m\u001b[0mmodel\u001b[0m\u001b[0;34m)\u001b[0m\u001b[0;34m)\u001b[0m\u001b[0;34m\u001b[0m\u001b[0;34m\u001b[0m\u001b[0m\n\u001b[1;32m      4\u001b[0m \u001b[0mrun\u001b[0m\u001b[0;34m.\u001b[0m\u001b[0mcomplete\u001b[0m\u001b[0;34m(\u001b[0m\u001b[0;34m)\u001b[0m\u001b[0;34m\u001b[0m\u001b[0;34m\u001b[0m\u001b[0m\n\u001b[1;32m      5\u001b[0m \u001b[0;34m\u001b[0m\u001b[0m\n",
      "\u001b[0;32m/usr/local/lib/python3.6/dist-packages/azureml/core/experiment.py\u001b[0m in \u001b[0;36mstart_logging\u001b[0;34m(self, *args, **kwargs)\u001b[0m\n\u001b[1;32m    241\u001b[0m         \"\"\"\n\u001b[1;32m    242\u001b[0m         \u001b[0;32mfrom\u001b[0m \u001b[0mazureml\u001b[0m\u001b[0;34m.\u001b[0m\u001b[0mcore\u001b[0m\u001b[0;34m.\u001b[0m\u001b[0mrun\u001b[0m \u001b[0;32mimport\u001b[0m \u001b[0mRun\u001b[0m\u001b[0;34m\u001b[0m\u001b[0;34m\u001b[0m\u001b[0m\n\u001b[0;32m--> 243\u001b[0;31m         \u001b[0;32mreturn\u001b[0m \u001b[0mRun\u001b[0m\u001b[0;34m.\u001b[0m\u001b[0m_start_logging\u001b[0m\u001b[0;34m(\u001b[0m\u001b[0mself\u001b[0m\u001b[0;34m,\u001b[0m \u001b[0;34m*\u001b[0m\u001b[0margs\u001b[0m\u001b[0;34m,\u001b[0m \u001b[0m_parent_logger\u001b[0m\u001b[0;34m=\u001b[0m\u001b[0mself\u001b[0m\u001b[0;34m.\u001b[0m\u001b[0m_logger\u001b[0m\u001b[0;34m,\u001b[0m \u001b[0;34m**\u001b[0m\u001b[0mkwargs\u001b[0m\u001b[0;34m)\u001b[0m\u001b[0;34m\u001b[0m\u001b[0;34m\u001b[0m\u001b[0m\n\u001b[0m\u001b[1;32m    244\u001b[0m \u001b[0;34m\u001b[0m\u001b[0m\n\u001b[1;32m    245\u001b[0m     \u001b[0;34m@\u001b[0m\u001b[0m_check_for_experiment_id\u001b[0m\u001b[0;34m\u001b[0m\u001b[0;34m\u001b[0m\u001b[0m\n",
      "\u001b[0;32m/usr/local/lib/python3.6/dist-packages/azureml/core/run.py\u001b[0m in \u001b[0;36m_start_logging\u001b[0;34m(experiment, name, run_id, outputs, snapshot_directory, **kwargs)\u001b[0m\n\u001b[1;32m    519\u001b[0m         \u001b[0;32mif\u001b[0m \u001b[0msnapshot_directory\u001b[0m\u001b[0;34m:\u001b[0m\u001b[0;34m\u001b[0m\u001b[0;34m\u001b[0m\u001b[0m\n\u001b[1;32m    520\u001b[0m             \u001b[0;32mtry\u001b[0m\u001b[0;34m:\u001b[0m\u001b[0;34m\u001b[0m\u001b[0;34m\u001b[0m\u001b[0m\n\u001b[0;32m--> 521\u001b[0;31m                 \u001b[0mrun\u001b[0m\u001b[0;34m.\u001b[0m\u001b[0mtake_snapshot\u001b[0m\u001b[0;34m(\u001b[0m\u001b[0msnapshot_directory\u001b[0m\u001b[0;34m)\u001b[0m\u001b[0;34m\u001b[0m\u001b[0;34m\u001b[0m\u001b[0m\n\u001b[0m\u001b[1;32m    522\u001b[0m             \u001b[0;32mexcept\u001b[0m \u001b[0mSnapshotException\u001b[0m \u001b[0;32mas\u001b[0m \u001b[0msnapshot_ex\u001b[0m\u001b[0;34m:\u001b[0m\u001b[0;34m\u001b[0m\u001b[0;34m\u001b[0m\u001b[0m\n\u001b[1;32m    523\u001b[0m                 \u001b[0merror_msg\u001b[0m \u001b[0;34m=\u001b[0m \u001b[0;34m\"Failed to take a snapshot of {}. Pass snapshot_directory=None to start_logging \"\u001b[0m\u001b[0;31m\\\u001b[0m\u001b[0;34m\u001b[0m\u001b[0;34m\u001b[0m\u001b[0m\n",
      "\u001b[0;32m/usr/local/lib/python3.6/dist-packages/azureml/core/run.py\u001b[0m in \u001b[0;36mtake_snapshot\u001b[0;34m(self, file_or_folder_path)\u001b[0m\n\u001b[1;32m   1940\u001b[0m         \u001b[0;34m:\u001b[0m\u001b[0mrtype\u001b[0m\u001b[0;34m:\u001b[0m \u001b[0mstr\u001b[0m\u001b[0;34m\u001b[0m\u001b[0;34m\u001b[0m\u001b[0m\n\u001b[1;32m   1941\u001b[0m         \"\"\"\n\u001b[0;32m-> 1942\u001b[0;31m         \u001b[0;32mreturn\u001b[0m \u001b[0mself\u001b[0m\u001b[0;34m.\u001b[0m\u001b[0m_client\u001b[0m\u001b[0;34m.\u001b[0m\u001b[0mtake_snapshot\u001b[0m\u001b[0;34m(\u001b[0m\u001b[0mfile_or_folder_path\u001b[0m\u001b[0;34m)\u001b[0m\u001b[0;34m\u001b[0m\u001b[0;34m\u001b[0m\u001b[0m\n\u001b[0m\u001b[1;32m   1943\u001b[0m \u001b[0;34m\u001b[0m\u001b[0m\n\u001b[1;32m   1944\u001b[0m     \u001b[0;32mdef\u001b[0m \u001b[0mrestore_snapshot\u001b[0m\u001b[0;34m(\u001b[0m\u001b[0mself\u001b[0m\u001b[0;34m,\u001b[0m \u001b[0msnapshot_id\u001b[0m\u001b[0;34m=\u001b[0m\u001b[0;32mNone\u001b[0m\u001b[0;34m,\u001b[0m \u001b[0mpath\u001b[0m\u001b[0;34m=\u001b[0m\u001b[0;32mNone\u001b[0m\u001b[0;34m)\u001b[0m\u001b[0;34m:\u001b[0m\u001b[0;34m\u001b[0m\u001b[0;34m\u001b[0m\u001b[0m\n",
      "\u001b[0;32m/usr/local/lib/python3.6/dist-packages/azureml/_run_impl/run_history_facade.py\u001b[0m in \u001b[0;36mtake_snapshot\u001b[0;34m(self, file_or_folder_path, _raise_on_validation_failure)\u001b[0m\n\u001b[1;32m    602\u001b[0m             snapshot_id = self.snapshots.create_snapshot(\n\u001b[1;32m    603\u001b[0m                 \u001b[0mfile_or_folder_path\u001b[0m\u001b[0;34m,\u001b[0m\u001b[0;34m\u001b[0m\u001b[0;34m\u001b[0m\u001b[0m\n\u001b[0;32m--> 604\u001b[0;31m                 raise_on_validation_failure=_raise_on_validation_failure)\n\u001b[0m\u001b[1;32m    605\u001b[0m \u001b[0;34m\u001b[0m\u001b[0m\n\u001b[1;32m    606\u001b[0m             \u001b[0mslcx\u001b[0m\u001b[0;34m.\u001b[0m\u001b[0mdebug\u001b[0m\u001b[0;34m(\u001b[0m\u001b[0;34m\"Created snapshot {}\"\u001b[0m\u001b[0;34m.\u001b[0m\u001b[0mformat\u001b[0m\u001b[0;34m(\u001b[0m\u001b[0msnapshot_id\u001b[0m\u001b[0;34m)\u001b[0m\u001b[0;34m)\u001b[0m\u001b[0;34m\u001b[0m\u001b[0;34m\u001b[0m\u001b[0m\n",
      "\u001b[0;32m/usr/local/lib/python3.6/dist-packages/azureml/_restclient/snapshots_client.py\u001b[0m in \u001b[0;36mcreate_snapshot\u001b[0;34m(self, file_or_folder_path, retry_on_failure, raise_on_validation_failure)\u001b[0m\n\u001b[1;32m    141\u001b[0m \u001b[0;34m\u001b[0m\u001b[0m\n\u001b[1;32m    142\u001b[0m                     response = self._execute_with_base_arguments(\n\u001b[0;32m--> 143\u001b[0;31m                         session.post, url, files=files_to_send, headers=auth_headers)\n\u001b[0m\u001b[1;32m    144\u001b[0m                     \u001b[0;32mif\u001b[0m \u001b[0mresponse\u001b[0m\u001b[0;34m.\u001b[0m\u001b[0mstatus_code\u001b[0m \u001b[0;34m>=\u001b[0m \u001b[0;36m400\u001b[0m\u001b[0;34m:\u001b[0m\u001b[0;34m\u001b[0m\u001b[0;34m\u001b[0m\u001b[0m\n\u001b[1;32m    145\u001b[0m                         \u001b[0;32mif\u001b[0m \u001b[0mretry_on_failure\u001b[0m\u001b[0;34m:\u001b[0m\u001b[0;34m\u001b[0m\u001b[0;34m\u001b[0m\u001b[0m\n",
      "\u001b[0;32m/usr/local/lib/python3.6/dist-packages/azureml/_restclient/clientbase.py\u001b[0m in \u001b[0;36m_execute_with_base_arguments\u001b[0;34m(self, func, *args, **kwargs)\u001b[0m\n\u001b[1;32m    304\u001b[0m         \u001b[0mtotal_retry\u001b[0m \u001b[0;34m=\u001b[0m \u001b[0;36m0\u001b[0m \u001b[0;32mif\u001b[0m \u001b[0mself\u001b[0m\u001b[0;34m.\u001b[0m\u001b[0mretries\u001b[0m \u001b[0;34m<\u001b[0m \u001b[0;36m0\u001b[0m \u001b[0;32melse\u001b[0m \u001b[0mself\u001b[0m\u001b[0;34m.\u001b[0m\u001b[0mretries\u001b[0m\u001b[0;34m\u001b[0m\u001b[0;34m\u001b[0m\u001b[0m\n\u001b[1;32m    305\u001b[0m         return ClientBase._execute_func_internal(\n\u001b[0;32m--> 306\u001b[0;31m             back_off, total_retry, self._logger, func, _noop_reset, *args, **kwargs)\n\u001b[0m\u001b[1;32m    307\u001b[0m \u001b[0;34m\u001b[0m\u001b[0m\n\u001b[1;32m    308\u001b[0m     \u001b[0;34m@\u001b[0m\u001b[0mclassmethod\u001b[0m\u001b[0;34m\u001b[0m\u001b[0;34m\u001b[0m\u001b[0m\n",
      "\u001b[0;32m/usr/local/lib/python3.6/dist-packages/azureml/_restclient/clientbase.py\u001b[0m in \u001b[0;36m_execute_func_internal\u001b[0;34m(cls, back_off, total_retry, logger, func, reset_func, *args, **kwargs)\u001b[0m\n\u001b[1;32m    317\u001b[0m         \u001b[0;32mwhile\u001b[0m \u001b[0mleft_retry\u001b[0m \u001b[0;34m>=\u001b[0m \u001b[0;36m0\u001b[0m\u001b[0;34m:\u001b[0m\u001b[0;34m\u001b[0m\u001b[0;34m\u001b[0m\u001b[0m\n\u001b[1;32m    318\u001b[0m             \u001b[0;32mtry\u001b[0m\u001b[0;34m:\u001b[0m\u001b[0;34m\u001b[0m\u001b[0;34m\u001b[0m\u001b[0m\n\u001b[0;32m--> 319\u001b[0;31m                 \u001b[0;32mreturn\u001b[0m \u001b[0mfunc\u001b[0m\u001b[0;34m(\u001b[0m\u001b[0;34m*\u001b[0m\u001b[0margs\u001b[0m\u001b[0;34m,\u001b[0m \u001b[0;34m**\u001b[0m\u001b[0mkwargs\u001b[0m\u001b[0;34m)\u001b[0m\u001b[0;34m\u001b[0m\u001b[0;34m\u001b[0m\u001b[0m\n\u001b[0m\u001b[1;32m    320\u001b[0m             \u001b[0;32mexcept\u001b[0m \u001b[0mException\u001b[0m \u001b[0;32mas\u001b[0m \u001b[0merror\u001b[0m\u001b[0;34m:\u001b[0m\u001b[0;34m\u001b[0m\u001b[0;34m\u001b[0m\u001b[0m\n\u001b[1;32m    321\u001b[0m                 \u001b[0mleft_retry\u001b[0m \u001b[0;34m=\u001b[0m \u001b[0mcls\u001b[0m\u001b[0;34m.\u001b[0m\u001b[0m_handle_retry\u001b[0m\u001b[0;34m(\u001b[0m\u001b[0mback_off\u001b[0m\u001b[0;34m,\u001b[0m \u001b[0mleft_retry\u001b[0m\u001b[0;34m,\u001b[0m \u001b[0mtotal_retry\u001b[0m\u001b[0;34m,\u001b[0m \u001b[0merror\u001b[0m\u001b[0;34m,\u001b[0m \u001b[0mlogger\u001b[0m\u001b[0;34m,\u001b[0m \u001b[0mfunc\u001b[0m\u001b[0;34m)\u001b[0m\u001b[0;34m\u001b[0m\u001b[0;34m\u001b[0m\u001b[0m\n",
      "\u001b[0;32m~/.local/lib/python3.6/site-packages/requests/sessions.py\u001b[0m in \u001b[0;36mpost\u001b[0;34m(self, url, data, json, **kwargs)\u001b[0m\n\u001b[1;32m    579\u001b[0m         \"\"\"\n\u001b[1;32m    580\u001b[0m \u001b[0;34m\u001b[0m\u001b[0m\n\u001b[0;32m--> 581\u001b[0;31m         \u001b[0;32mreturn\u001b[0m \u001b[0mself\u001b[0m\u001b[0;34m.\u001b[0m\u001b[0mrequest\u001b[0m\u001b[0;34m(\u001b[0m\u001b[0;34m'POST'\u001b[0m\u001b[0;34m,\u001b[0m \u001b[0murl\u001b[0m\u001b[0;34m,\u001b[0m \u001b[0mdata\u001b[0m\u001b[0;34m=\u001b[0m\u001b[0mdata\u001b[0m\u001b[0;34m,\u001b[0m \u001b[0mjson\u001b[0m\u001b[0;34m=\u001b[0m\u001b[0mjson\u001b[0m\u001b[0;34m,\u001b[0m \u001b[0;34m**\u001b[0m\u001b[0mkwargs\u001b[0m\u001b[0;34m)\u001b[0m\u001b[0;34m\u001b[0m\u001b[0;34m\u001b[0m\u001b[0m\n\u001b[0m\u001b[1;32m    582\u001b[0m \u001b[0;34m\u001b[0m\u001b[0m\n\u001b[1;32m    583\u001b[0m     \u001b[0;32mdef\u001b[0m \u001b[0mput\u001b[0m\u001b[0;34m(\u001b[0m\u001b[0mself\u001b[0m\u001b[0;34m,\u001b[0m \u001b[0murl\u001b[0m\u001b[0;34m,\u001b[0m \u001b[0mdata\u001b[0m\u001b[0;34m=\u001b[0m\u001b[0;32mNone\u001b[0m\u001b[0;34m,\u001b[0m \u001b[0;34m**\u001b[0m\u001b[0mkwargs\u001b[0m\u001b[0;34m)\u001b[0m\u001b[0;34m:\u001b[0m\u001b[0;34m\u001b[0m\u001b[0;34m\u001b[0m\u001b[0m\n",
      "\u001b[0;32m~/.local/lib/python3.6/site-packages/requests/sessions.py\u001b[0m in \u001b[0;36mrequest\u001b[0;34m(self, method, url, params, data, headers, cookies, files, auth, timeout, allow_redirects, proxies, hooks, stream, verify, cert, json)\u001b[0m\n\u001b[1;32m    531\u001b[0m         }\n\u001b[1;32m    532\u001b[0m         \u001b[0msend_kwargs\u001b[0m\u001b[0;34m.\u001b[0m\u001b[0mupdate\u001b[0m\u001b[0;34m(\u001b[0m\u001b[0msettings\u001b[0m\u001b[0;34m)\u001b[0m\u001b[0;34m\u001b[0m\u001b[0;34m\u001b[0m\u001b[0m\n\u001b[0;32m--> 533\u001b[0;31m         \u001b[0mresp\u001b[0m \u001b[0;34m=\u001b[0m \u001b[0mself\u001b[0m\u001b[0;34m.\u001b[0m\u001b[0msend\u001b[0m\u001b[0;34m(\u001b[0m\u001b[0mprep\u001b[0m\u001b[0;34m,\u001b[0m \u001b[0;34m**\u001b[0m\u001b[0msend_kwargs\u001b[0m\u001b[0;34m)\u001b[0m\u001b[0;34m\u001b[0m\u001b[0;34m\u001b[0m\u001b[0m\n\u001b[0m\u001b[1;32m    534\u001b[0m \u001b[0;34m\u001b[0m\u001b[0m\n\u001b[1;32m    535\u001b[0m         \u001b[0;32mreturn\u001b[0m \u001b[0mresp\u001b[0m\u001b[0;34m\u001b[0m\u001b[0;34m\u001b[0m\u001b[0m\n",
      "\u001b[0;32m~/.local/lib/python3.6/site-packages/requests/sessions.py\u001b[0m in \u001b[0;36msend\u001b[0;34m(self, request, **kwargs)\u001b[0m\n\u001b[1;32m    644\u001b[0m \u001b[0;34m\u001b[0m\u001b[0m\n\u001b[1;32m    645\u001b[0m         \u001b[0;31m# Send the request\u001b[0m\u001b[0;34m\u001b[0m\u001b[0;34m\u001b[0m\u001b[0;34m\u001b[0m\u001b[0m\n\u001b[0;32m--> 646\u001b[0;31m         \u001b[0mr\u001b[0m \u001b[0;34m=\u001b[0m \u001b[0madapter\u001b[0m\u001b[0;34m.\u001b[0m\u001b[0msend\u001b[0m\u001b[0;34m(\u001b[0m\u001b[0mrequest\u001b[0m\u001b[0;34m,\u001b[0m \u001b[0;34m**\u001b[0m\u001b[0mkwargs\u001b[0m\u001b[0;34m)\u001b[0m\u001b[0;34m\u001b[0m\u001b[0;34m\u001b[0m\u001b[0m\n\u001b[0m\u001b[1;32m    647\u001b[0m \u001b[0;34m\u001b[0m\u001b[0m\n\u001b[1;32m    648\u001b[0m         \u001b[0;31m# Total elapsed time of the request (approximately)\u001b[0m\u001b[0;34m\u001b[0m\u001b[0;34m\u001b[0m\u001b[0;34m\u001b[0m\u001b[0m\n",
      "\u001b[0;32m~/.local/lib/python3.6/site-packages/requests/adapters.py\u001b[0m in \u001b[0;36msend\u001b[0;34m(self, request, stream, timeout, verify, cert, proxies)\u001b[0m\n\u001b[1;32m    447\u001b[0m                     \u001b[0mdecode_content\u001b[0m\u001b[0;34m=\u001b[0m\u001b[0;32mFalse\u001b[0m\u001b[0;34m,\u001b[0m\u001b[0;34m\u001b[0m\u001b[0;34m\u001b[0m\u001b[0m\n\u001b[1;32m    448\u001b[0m                     \u001b[0mretries\u001b[0m\u001b[0;34m=\u001b[0m\u001b[0mself\u001b[0m\u001b[0;34m.\u001b[0m\u001b[0mmax_retries\u001b[0m\u001b[0;34m,\u001b[0m\u001b[0;34m\u001b[0m\u001b[0;34m\u001b[0m\u001b[0m\n\u001b[0;32m--> 449\u001b[0;31m                     \u001b[0mtimeout\u001b[0m\u001b[0;34m=\u001b[0m\u001b[0mtimeout\u001b[0m\u001b[0;34m\u001b[0m\u001b[0;34m\u001b[0m\u001b[0m\n\u001b[0m\u001b[1;32m    450\u001b[0m                 )\n\u001b[1;32m    451\u001b[0m \u001b[0;34m\u001b[0m\u001b[0m\n",
      "\u001b[0;32m~/.local/lib/python3.6/site-packages/urllib3/connectionpool.py\u001b[0m in \u001b[0;36murlopen\u001b[0;34m(self, method, url, body, headers, retries, redirect, assert_same_host, timeout, pool_timeout, release_conn, chunked, body_pos, **response_kw)\u001b[0m\n\u001b[1;32m    670\u001b[0m                 \u001b[0mbody\u001b[0m\u001b[0;34m=\u001b[0m\u001b[0mbody\u001b[0m\u001b[0;34m,\u001b[0m\u001b[0;34m\u001b[0m\u001b[0;34m\u001b[0m\u001b[0m\n\u001b[1;32m    671\u001b[0m                 \u001b[0mheaders\u001b[0m\u001b[0;34m=\u001b[0m\u001b[0mheaders\u001b[0m\u001b[0;34m,\u001b[0m\u001b[0;34m\u001b[0m\u001b[0;34m\u001b[0m\u001b[0m\n\u001b[0;32m--> 672\u001b[0;31m                 \u001b[0mchunked\u001b[0m\u001b[0;34m=\u001b[0m\u001b[0mchunked\u001b[0m\u001b[0;34m,\u001b[0m\u001b[0;34m\u001b[0m\u001b[0;34m\u001b[0m\u001b[0m\n\u001b[0m\u001b[1;32m    673\u001b[0m             )\n\u001b[1;32m    674\u001b[0m \u001b[0;34m\u001b[0m\u001b[0m\n",
      "\u001b[0;32m~/.local/lib/python3.6/site-packages/urllib3/connectionpool.py\u001b[0m in \u001b[0;36m_make_request\u001b[0;34m(self, conn, method, url, timeout, chunked, **httplib_request_kw)\u001b[0m\n\u001b[1;32m    385\u001b[0m             \u001b[0mconn\u001b[0m\u001b[0;34m.\u001b[0m\u001b[0mrequest_chunked\u001b[0m\u001b[0;34m(\u001b[0m\u001b[0mmethod\u001b[0m\u001b[0;34m,\u001b[0m \u001b[0murl\u001b[0m\u001b[0;34m,\u001b[0m \u001b[0;34m**\u001b[0m\u001b[0mhttplib_request_kw\u001b[0m\u001b[0;34m)\u001b[0m\u001b[0;34m\u001b[0m\u001b[0;34m\u001b[0m\u001b[0m\n\u001b[1;32m    386\u001b[0m         \u001b[0;32melse\u001b[0m\u001b[0;34m:\u001b[0m\u001b[0;34m\u001b[0m\u001b[0;34m\u001b[0m\u001b[0m\n\u001b[0;32m--> 387\u001b[0;31m             \u001b[0mconn\u001b[0m\u001b[0;34m.\u001b[0m\u001b[0mrequest\u001b[0m\u001b[0;34m(\u001b[0m\u001b[0mmethod\u001b[0m\u001b[0;34m,\u001b[0m \u001b[0murl\u001b[0m\u001b[0;34m,\u001b[0m \u001b[0;34m**\u001b[0m\u001b[0mhttplib_request_kw\u001b[0m\u001b[0;34m)\u001b[0m\u001b[0;34m\u001b[0m\u001b[0;34m\u001b[0m\u001b[0m\n\u001b[0m\u001b[1;32m    388\u001b[0m \u001b[0;34m\u001b[0m\u001b[0m\n\u001b[1;32m    389\u001b[0m         \u001b[0;31m# Reset the timeout for the recv() on the socket\u001b[0m\u001b[0;34m\u001b[0m\u001b[0;34m\u001b[0m\u001b[0;34m\u001b[0m\u001b[0m\n",
      "\u001b[0;32m/usr/lib/python3.6/http/client.py\u001b[0m in \u001b[0;36mrequest\u001b[0;34m(self, method, url, body, headers, encode_chunked)\u001b[0m\n\u001b[1;32m   1260\u001b[0m                 encode_chunked=False):\n\u001b[1;32m   1261\u001b[0m         \u001b[0;34m\"\"\"Send a complete request to the server.\"\"\"\u001b[0m\u001b[0;34m\u001b[0m\u001b[0;34m\u001b[0m\u001b[0m\n\u001b[0;32m-> 1262\u001b[0;31m         \u001b[0mself\u001b[0m\u001b[0;34m.\u001b[0m\u001b[0m_send_request\u001b[0m\u001b[0;34m(\u001b[0m\u001b[0mmethod\u001b[0m\u001b[0;34m,\u001b[0m \u001b[0murl\u001b[0m\u001b[0;34m,\u001b[0m \u001b[0mbody\u001b[0m\u001b[0;34m,\u001b[0m \u001b[0mheaders\u001b[0m\u001b[0;34m,\u001b[0m \u001b[0mencode_chunked\u001b[0m\u001b[0;34m)\u001b[0m\u001b[0;34m\u001b[0m\u001b[0;34m\u001b[0m\u001b[0m\n\u001b[0m\u001b[1;32m   1263\u001b[0m \u001b[0;34m\u001b[0m\u001b[0m\n\u001b[1;32m   1264\u001b[0m     \u001b[0;32mdef\u001b[0m \u001b[0m_send_request\u001b[0m\u001b[0;34m(\u001b[0m\u001b[0mself\u001b[0m\u001b[0;34m,\u001b[0m \u001b[0mmethod\u001b[0m\u001b[0;34m,\u001b[0m \u001b[0murl\u001b[0m\u001b[0;34m,\u001b[0m \u001b[0mbody\u001b[0m\u001b[0;34m,\u001b[0m \u001b[0mheaders\u001b[0m\u001b[0;34m,\u001b[0m \u001b[0mencode_chunked\u001b[0m\u001b[0;34m)\u001b[0m\u001b[0;34m:\u001b[0m\u001b[0;34m\u001b[0m\u001b[0;34m\u001b[0m\u001b[0m\n",
      "\u001b[0;32m/usr/lib/python3.6/http/client.py\u001b[0m in \u001b[0;36m_send_request\u001b[0;34m(self, method, url, body, headers, encode_chunked)\u001b[0m\n\u001b[1;32m   1306\u001b[0m             \u001b[0;31m# default charset of iso-8859-1.\u001b[0m\u001b[0;34m\u001b[0m\u001b[0;34m\u001b[0m\u001b[0;34m\u001b[0m\u001b[0m\n\u001b[1;32m   1307\u001b[0m             \u001b[0mbody\u001b[0m \u001b[0;34m=\u001b[0m \u001b[0m_encode\u001b[0m\u001b[0;34m(\u001b[0m\u001b[0mbody\u001b[0m\u001b[0;34m,\u001b[0m \u001b[0;34m'body'\u001b[0m\u001b[0;34m)\u001b[0m\u001b[0;34m\u001b[0m\u001b[0;34m\u001b[0m\u001b[0m\n\u001b[0;32m-> 1308\u001b[0;31m         \u001b[0mself\u001b[0m\u001b[0;34m.\u001b[0m\u001b[0mendheaders\u001b[0m\u001b[0;34m(\u001b[0m\u001b[0mbody\u001b[0m\u001b[0;34m,\u001b[0m \u001b[0mencode_chunked\u001b[0m\u001b[0;34m=\u001b[0m\u001b[0mencode_chunked\u001b[0m\u001b[0;34m)\u001b[0m\u001b[0;34m\u001b[0m\u001b[0;34m\u001b[0m\u001b[0m\n\u001b[0m\u001b[1;32m   1309\u001b[0m \u001b[0;34m\u001b[0m\u001b[0m\n\u001b[1;32m   1310\u001b[0m     \u001b[0;32mdef\u001b[0m \u001b[0mgetresponse\u001b[0m\u001b[0;34m(\u001b[0m\u001b[0mself\u001b[0m\u001b[0;34m)\u001b[0m\u001b[0;34m:\u001b[0m\u001b[0;34m\u001b[0m\u001b[0;34m\u001b[0m\u001b[0m\n",
      "\u001b[0;32m/usr/lib/python3.6/http/client.py\u001b[0m in \u001b[0;36mendheaders\u001b[0;34m(self, message_body, encode_chunked)\u001b[0m\n\u001b[1;32m   1255\u001b[0m         \u001b[0;32melse\u001b[0m\u001b[0;34m:\u001b[0m\u001b[0;34m\u001b[0m\u001b[0;34m\u001b[0m\u001b[0m\n\u001b[1;32m   1256\u001b[0m             \u001b[0;32mraise\u001b[0m \u001b[0mCannotSendHeader\u001b[0m\u001b[0;34m(\u001b[0m\u001b[0;34m)\u001b[0m\u001b[0;34m\u001b[0m\u001b[0;34m\u001b[0m\u001b[0m\n\u001b[0;32m-> 1257\u001b[0;31m         \u001b[0mself\u001b[0m\u001b[0;34m.\u001b[0m\u001b[0m_send_output\u001b[0m\u001b[0;34m(\u001b[0m\u001b[0mmessage_body\u001b[0m\u001b[0;34m,\u001b[0m \u001b[0mencode_chunked\u001b[0m\u001b[0;34m=\u001b[0m\u001b[0mencode_chunked\u001b[0m\u001b[0;34m)\u001b[0m\u001b[0;34m\u001b[0m\u001b[0;34m\u001b[0m\u001b[0m\n\u001b[0m\u001b[1;32m   1258\u001b[0m \u001b[0;34m\u001b[0m\u001b[0m\n\u001b[1;32m   1259\u001b[0m     def request(self, method, url, body=None, headers={}, *,\n",
      "\u001b[0;32m/usr/lib/python3.6/http/client.py\u001b[0m in \u001b[0;36m_send_output\u001b[0;34m(self, message_body, encode_chunked)\u001b[0m\n\u001b[1;32m   1073\u001b[0m                     \u001b[0mchunk\u001b[0m \u001b[0;34m=\u001b[0m \u001b[0;34mf'{len(chunk):X}\\r\\n'\u001b[0m\u001b[0;34m.\u001b[0m\u001b[0mencode\u001b[0m\u001b[0;34m(\u001b[0m\u001b[0;34m'ascii'\u001b[0m\u001b[0;34m)\u001b[0m \u001b[0;34m+\u001b[0m \u001b[0mchunk\u001b[0m\u001b[0;31m \u001b[0m\u001b[0;31m\\\u001b[0m\u001b[0;34m\u001b[0m\u001b[0;34m\u001b[0m\u001b[0m\n\u001b[1;32m   1074\u001b[0m                         \u001b[0;34m+\u001b[0m \u001b[0;34mb'\\r\\n'\u001b[0m\u001b[0;34m\u001b[0m\u001b[0;34m\u001b[0m\u001b[0m\n\u001b[0;32m-> 1075\u001b[0;31m                 \u001b[0mself\u001b[0m\u001b[0;34m.\u001b[0m\u001b[0msend\u001b[0m\u001b[0;34m(\u001b[0m\u001b[0mchunk\u001b[0m\u001b[0;34m)\u001b[0m\u001b[0;34m\u001b[0m\u001b[0;34m\u001b[0m\u001b[0m\n\u001b[0m\u001b[1;32m   1076\u001b[0m \u001b[0;34m\u001b[0m\u001b[0m\n\u001b[1;32m   1077\u001b[0m             \u001b[0;32mif\u001b[0m \u001b[0mencode_chunked\u001b[0m \u001b[0;32mand\u001b[0m \u001b[0mself\u001b[0m\u001b[0;34m.\u001b[0m\u001b[0m_http_vsn\u001b[0m \u001b[0;34m==\u001b[0m \u001b[0;36m11\u001b[0m\u001b[0;34m:\u001b[0m\u001b[0;34m\u001b[0m\u001b[0;34m\u001b[0m\u001b[0m\n",
      "\u001b[0;32m/usr/lib/python3.6/http/client.py\u001b[0m in \u001b[0;36msend\u001b[0;34m(self, data)\u001b[0m\n\u001b[1;32m    994\u001b[0m             \u001b[0;32mreturn\u001b[0m\u001b[0;34m\u001b[0m\u001b[0;34m\u001b[0m\u001b[0m\n\u001b[1;32m    995\u001b[0m         \u001b[0;32mtry\u001b[0m\u001b[0;34m:\u001b[0m\u001b[0;34m\u001b[0m\u001b[0;34m\u001b[0m\u001b[0m\n\u001b[0;32m--> 996\u001b[0;31m             \u001b[0mself\u001b[0m\u001b[0;34m.\u001b[0m\u001b[0msock\u001b[0m\u001b[0;34m.\u001b[0m\u001b[0msendall\u001b[0m\u001b[0;34m(\u001b[0m\u001b[0mdata\u001b[0m\u001b[0;34m)\u001b[0m\u001b[0;34m\u001b[0m\u001b[0;34m\u001b[0m\u001b[0m\n\u001b[0m\u001b[1;32m    997\u001b[0m         \u001b[0;32mexcept\u001b[0m \u001b[0mTypeError\u001b[0m\u001b[0;34m:\u001b[0m\u001b[0;34m\u001b[0m\u001b[0;34m\u001b[0m\u001b[0m\n\u001b[1;32m    998\u001b[0m             \u001b[0;32mif\u001b[0m \u001b[0misinstance\u001b[0m\u001b[0;34m(\u001b[0m\u001b[0mdata\u001b[0m\u001b[0;34m,\u001b[0m \u001b[0mcollections\u001b[0m\u001b[0;34m.\u001b[0m\u001b[0mIterable\u001b[0m\u001b[0;34m)\u001b[0m\u001b[0;34m:\u001b[0m\u001b[0;34m\u001b[0m\u001b[0;34m\u001b[0m\u001b[0m\n",
      "\u001b[0;32m~/.local/lib/python3.6/site-packages/urllib3/contrib/pyopenssl.py\u001b[0m in \u001b[0;36msendall\u001b[0;34m(self, data)\u001b[0m\n\u001b[1;32m    350\u001b[0m         \u001b[0;32mwhile\u001b[0m \u001b[0mtotal_sent\u001b[0m \u001b[0;34m<\u001b[0m \u001b[0mlen\u001b[0m\u001b[0;34m(\u001b[0m\u001b[0mdata\u001b[0m\u001b[0;34m)\u001b[0m\u001b[0;34m:\u001b[0m\u001b[0;34m\u001b[0m\u001b[0;34m\u001b[0m\u001b[0m\n\u001b[1;32m    351\u001b[0m             sent = self._send_until_done(\n\u001b[0;32m--> 352\u001b[0;31m                 \u001b[0mdata\u001b[0m\u001b[0;34m[\u001b[0m\u001b[0mtotal_sent\u001b[0m \u001b[0;34m:\u001b[0m \u001b[0mtotal_sent\u001b[0m \u001b[0;34m+\u001b[0m \u001b[0mSSL_WRITE_BLOCKSIZE\u001b[0m\u001b[0;34m]\u001b[0m\u001b[0;34m\u001b[0m\u001b[0;34m\u001b[0m\u001b[0m\n\u001b[0m\u001b[1;32m    353\u001b[0m             )\n\u001b[1;32m    354\u001b[0m             \u001b[0mtotal_sent\u001b[0m \u001b[0;34m+=\u001b[0m \u001b[0msent\u001b[0m\u001b[0;34m\u001b[0m\u001b[0;34m\u001b[0m\u001b[0m\n",
      "\u001b[0;32m~/.local/lib/python3.6/site-packages/urllib3/contrib/pyopenssl.py\u001b[0m in \u001b[0;36m_send_until_done\u001b[0;34m(self, data)\u001b[0m\n\u001b[1;32m    338\u001b[0m         \u001b[0;32mwhile\u001b[0m \u001b[0;32mTrue\u001b[0m\u001b[0;34m:\u001b[0m\u001b[0;34m\u001b[0m\u001b[0;34m\u001b[0m\u001b[0m\n\u001b[1;32m    339\u001b[0m             \u001b[0;32mtry\u001b[0m\u001b[0;34m:\u001b[0m\u001b[0;34m\u001b[0m\u001b[0;34m\u001b[0m\u001b[0m\n\u001b[0;32m--> 340\u001b[0;31m                 \u001b[0;32mreturn\u001b[0m \u001b[0mself\u001b[0m\u001b[0;34m.\u001b[0m\u001b[0mconnection\u001b[0m\u001b[0;34m.\u001b[0m\u001b[0msend\u001b[0m\u001b[0;34m(\u001b[0m\u001b[0mdata\u001b[0m\u001b[0;34m)\u001b[0m\u001b[0;34m\u001b[0m\u001b[0;34m\u001b[0m\u001b[0m\n\u001b[0m\u001b[1;32m    341\u001b[0m             \u001b[0;32mexcept\u001b[0m \u001b[0mOpenSSL\u001b[0m\u001b[0;34m.\u001b[0m\u001b[0mSSL\u001b[0m\u001b[0;34m.\u001b[0m\u001b[0mWantWriteError\u001b[0m\u001b[0;34m:\u001b[0m\u001b[0;34m\u001b[0m\u001b[0;34m\u001b[0m\u001b[0m\n\u001b[1;32m    342\u001b[0m                 \u001b[0;32mif\u001b[0m \u001b[0;32mnot\u001b[0m \u001b[0mutil\u001b[0m\u001b[0;34m.\u001b[0m\u001b[0mwait_for_write\u001b[0m\u001b[0;34m(\u001b[0m\u001b[0mself\u001b[0m\u001b[0;34m.\u001b[0m\u001b[0msocket\u001b[0m\u001b[0;34m,\u001b[0m \u001b[0mself\u001b[0m\u001b[0;34m.\u001b[0m\u001b[0msocket\u001b[0m\u001b[0;34m.\u001b[0m\u001b[0mgettimeout\u001b[0m\u001b[0;34m(\u001b[0m\u001b[0;34m)\u001b[0m\u001b[0;34m)\u001b[0m\u001b[0;34m:\u001b[0m\u001b[0;34m\u001b[0m\u001b[0;34m\u001b[0m\u001b[0m\n",
      "\u001b[0;32m/usr/local/lib/python3.6/dist-packages/OpenSSL/SSL.py\u001b[0m in \u001b[0;36msend\u001b[0;34m(self, buf, flags)\u001b[0m\n\u001b[1;32m   1754\u001b[0m                 )\n\u001b[1;32m   1755\u001b[0m \u001b[0;34m\u001b[0m\u001b[0m\n\u001b[0;32m-> 1756\u001b[0;31m             \u001b[0mresult\u001b[0m \u001b[0;34m=\u001b[0m \u001b[0m_lib\u001b[0m\u001b[0;34m.\u001b[0m\u001b[0mSSL_write\u001b[0m\u001b[0;34m(\u001b[0m\u001b[0mself\u001b[0m\u001b[0;34m.\u001b[0m\u001b[0m_ssl\u001b[0m\u001b[0;34m,\u001b[0m \u001b[0mdata\u001b[0m\u001b[0;34m,\u001b[0m \u001b[0mlen\u001b[0m\u001b[0;34m(\u001b[0m\u001b[0mdata\u001b[0m\u001b[0;34m)\u001b[0m\u001b[0;34m)\u001b[0m\u001b[0;34m\u001b[0m\u001b[0;34m\u001b[0m\u001b[0m\n\u001b[0m\u001b[1;32m   1757\u001b[0m             \u001b[0mself\u001b[0m\u001b[0;34m.\u001b[0m\u001b[0m_raise_ssl_error\u001b[0m\u001b[0;34m(\u001b[0m\u001b[0mself\u001b[0m\u001b[0;34m.\u001b[0m\u001b[0m_ssl\u001b[0m\u001b[0;34m,\u001b[0m \u001b[0mresult\u001b[0m\u001b[0;34m)\u001b[0m\u001b[0;34m\u001b[0m\u001b[0;34m\u001b[0m\u001b[0m\n\u001b[1;32m   1758\u001b[0m \u001b[0;34m\u001b[0m\u001b[0m\n",
      "\u001b[0;31mKeyboardInterrupt\u001b[0m: "
     ]
    }
   ],
   "source": [
    "run = exp.start_logging()\n",
    "model = train_model(run)\n",
    "print(type(model))\n",
    "run.complete()\n",
    "\n"
   ]
  },
  {
   "cell_type": "markdown",
   "metadata": {},
   "source": [
    "Executer plusieurs fois la fonction et vérifier que les résultats sont bien présent dans votre workspace dans le portail"
   ]
  },
  {
   "cell_type": "markdown",
   "metadata": {},
   "source": [
    "Vous pouvez aussi utiliser le sdk pour récupérer les informations stockée pour une experience. Coder une fonction `print_experiment_data(experiment)` qui prend en argument une experience et affiche toutes les données de tous les run "
   ]
  },
  {
   "cell_type": "code",
   "execution_count": null,
   "metadata": {},
   "outputs": [],
   "source": [
    "import pickle \n",
    "\n",
    "with open('monsupermodel.pkl', 'wb') as f:\n",
    "    pickle.dump(model, f)"
   ]
  },
  {
   "cell_type": "markdown",
   "metadata": {},
   "source": [
    "Archivez votre experience avec la méthode archive, et vérifiez qu'elle apparaît comme archivée sur le portail."
   ]
  },
  {
   "cell_type": "code",
   "execution_count": null,
   "metadata": {},
   "outputs": [],
   "source": [
    "from azureml.core import Model "
   ]
  },
  {
   "cell_type": "code",
   "execution_count": null,
   "metadata": {},
   "outputs": [],
   "source": [
    "registered_model = Model.register('./monsupermodel.pkl', \"monsupermodel\")"
   ]
  },
  {
   "cell_type": "markdown",
   "metadata": {},
   "source": [
    "Récupérer les détails de l'experience archivée\n",
    "\n",
    "\n"
   ]
  },
  {
   "cell_type": "code",
   "execution_count": null,
   "metadata": {},
   "outputs": [],
   "source": [
    "archived_experience = Experiment(\"expoer\")\n",
    "archived_experience.get_details()"
   ]
  },
  {
   "cell_type": "markdown",
   "metadata": {},
   "source": [
    "## Manipulation des modèles: Sauvegarde et autre\n",
    "\n",
    "Azure ml service, permet de se constituer une banque de modèles entraîné.. Lister et expliquer les différents paramètres de la méthode register de la classe Model"
   ]
  },
  {
   "cell_type": "markdown",
   "metadata": {},
   "source": [
    "Model.register('model_blabla.pkl')"
   ]
  },
  {
   "cell_type": "markdown",
   "metadata": {},
   "source": [
    "A l'aide de la méthode register_model uploader le modèle entraîné via la fonction train_model au dessus. Spécifier le maximum de paramètres"
   ]
  },
  {
   "cell_type": "code",
   "execution_count": null,
   "metadata": {},
   "outputs": [],
   "source": []
  },
  {
   "cell_type": "markdown",
   "metadata": {},
   "source": [
    "Vérifier que le modèle est bien dans le workspace"
   ]
  },
  {
   "cell_type": "markdown",
   "metadata": {},
   "source": []
  },
  {
   "cell_type": "markdown",
   "metadata": {},
   "source": [
    "Faire une fonction `get_last_model` qui télécharge le dernier modèle présent dans un workspace. Cette fonction pourrait être utilisée dans un environnement de production pour récupérer le dernier modèle uploadé et faire donc une mise en production. "
   ]
  },
  {
   "cell_type": "code",
   "execution_count": null,
   "metadata": {},
   "outputs": [],
   "source": []
  }
 ],
 "metadata": {
  "kernelspec": {
   "display_name": "Python 3",
   "language": "python",
   "name": "python3"
  },
  "language_info": {
   "codemirror_mode": {
    "name": "ipython",
    "version": 3
   },
   "file_extension": ".py",
   "mimetype": "text/x-python",
   "name": "python",
   "nbconvert_exporter": "python",
   "pygments_lexer": "ipython3",
   "version": "3.6.10"
  }
 },
 "nbformat": 4,
 "nbformat_minor": 4
}
